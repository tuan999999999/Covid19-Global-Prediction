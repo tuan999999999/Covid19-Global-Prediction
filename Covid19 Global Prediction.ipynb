{
  "nbformat": 4,
  "nbformat_minor": 0,
  "metadata": {
    "colab": {
      "provenance": []
    },
    "kernelspec": {
      "name": "python3",
      "display_name": "Python 3"
    },
    "language_info": {
      "name": "python"
    }
  },
  "cells": [
    {
      "cell_type": "markdown",
      "source": [
        "# Phân tích Dữ liệu (EDA)"
      ],
      "metadata": {
        "id": "KXzFINZTp1V4"
      }
    },
    {
      "cell_type": "markdown",
      "source": [
        "## Covid19 Global Excess Deaths"
      ],
      "metadata": {
        "id": "7xZZr-AccliM"
      }
    },
    {
      "cell_type": "markdown",
      "source": [
        "Link: https://www.kaggle.com/datasets/joebeachcapital/covid19-global-excess-deaths-daily-updates\n",
        "\n",
        "Bộ dữ liệu \"Covid19 Global Excess Deaths (daily updates)\" bao gồm thông tin về số lượng tử vong vượt quá mức bình thường trong các quốc gia và vùng lãnh thổ khác nhau trên thế giới. Đây là một chỉ số đo lường sự chênh lệch giữa số lượng tử vong thực tế và số lượng tử vong dự kiến trong một khoảng thời gian cụ thể.\n",
        "\n",
        "Dữ liệu được thu thập từ nhiều nguồn khác nhau như các báo cáo chính thức từ các cơ quan y tế và tổ chức quốc tế. Nó cung cấp thông tin chi tiết về các quốc gia và vùng lãnh thổ khác nhau, cho phép người dùng nghiên cứu sự biến đổi theo thời gian và so sánh giữa các địa điểm khác nhau.\n",
        "\n",
        "Một số tập dữ liệu chính của bộ dữ liệu này:\n",
        "\n",
        "* export_country: tập dữ liệu này cung cấp thông tin về số lượng tử vong vượt quá mức bình thường theo quốc gia trong các ngày cụ thể.\n",
        "\n",
        "* export_world: Đây là tập dữ liệu chứa thông tin tổng hợp về số lượng tử vong vượt quá mức bình thường trên toàn cầu.\n",
        "\n",
        "* export_regions: tập dữ liệu này tương tự như bộ dữ liệu trên, nhưng phân theo vùng lãnh thổ chứ không phải theo quốc gia. Nó cung cấp thông tin về số lượng tử vong vượt quá mức bình thường theo vùng lãnh thổ, cho phép theo dõi tình hình tử vong trong các khu vực.\n",
        "\n",
        "\n"
      ],
      "metadata": {
        "id": "0IyzAHwOdXO_"
      }
    },
    {
      "cell_type": "markdown",
      "source": [
        "## Tổng quan về bộ dữ liệu"
      ],
      "metadata": {
        "id": "5JK0D42RqMZ_"
      }
    },
    {
      "cell_type": "markdown",
      "source": [
        "Bộ dữ liệu phân tích:\n",
        "\n",
        "Bộ dữ liệu \"export_country\" là bộ dữ liệu chi tiết nhất để phân tích và nghiên cứu về tác động của dịch Covid-19 ảnh hướng như thế nào với đối với tình hình tử vong ở các quốc gia khác nhau.\n",
        "\n",
        "Chúng ta sẽ sử dụng thông tin trong tập dữ liệu này, để có thể thực hiện các phân tích về mức độ tác động của dịch Covid-19 đối với số lượng tử vong vượt quá mức bình thường."
      ],
      "metadata": {
        "id": "fZJAQB-tpJ4n"
      }
    },
    {
      "cell_type": "markdown",
      "source": [
        "### Khai báo thư viện và dữ liệu"
      ],
      "metadata": {
        "id": "e4WjwjwRso-s"
      }
    },
    {
      "cell_type": "code",
      "source": [
        "import numpy as np\n",
        "import pandas as pd\n",
        "import matplotlib.pyplot as plt\n",
        "import math\n",
        "from sklearn.ensemble import RandomForestRegressor\n",
        "from sklearn.model_selection import TimeSeriesSplit, GridSearchCV\n",
        "from sklearn.preprocessing import StandardScaler"
      ],
      "metadata": {
        "id": "kRIOGSpnYLGf"
      },
      "execution_count": null,
      "outputs": []
    },
    {
      "cell_type": "code",
      "source": [
        "import os\n",
        "from google.colab import drive\n",
        "drive.mount('/content/drive/')\n",
        "os.chdir('./drive/MyDrive/Of Course/')"
      ],
      "metadata": {
        "colab": {
          "base_uri": "https://localhost:8080/"
        },
        "id": "dxAFOZMGncaD",
        "outputId": "6760c9da-729a-44c6-9e89-0d7edadc717e"
      },
      "execution_count": null,
      "outputs": [
        {
          "output_type": "stream",
          "name": "stdout",
          "text": [
            "Drive already mounted at /content/drive/; to attempt to forcibly remount, call drive.mount(\"/content/drive/\", force_remount=True).\n"
          ]
        }
      ]
    },
    {
      "cell_type": "code",
      "source": [
        "df= pd.read_csv('export_country.csv')\n",
        "df= pd.DataFrame(df)"
      ],
      "metadata": {
        "id": "fVLHrqROnj_1"
      },
      "execution_count": null,
      "outputs": []
    },
    {
      "cell_type": "markdown",
      "source": [
        "## Đọc và tìm hiểu về dữ liệu"
      ],
      "metadata": {
        "id": "J2itBN-PsylC"
      }
    },
    {
      "cell_type": "code",
      "source": [
        "#In 3 quan sát đầu tiên của bảng dữ liệu.\n",
        "df.head(3)"
      ],
      "metadata": {
        "colab": {
          "base_uri": "https://localhost:8080/",
          "height": 215
        },
        "id": "mCrI5DVIodt0",
        "outputId": "d1344009-1514-497d-e90e-1177f2eeeabe"
      },
      "execution_count": null,
      "outputs": [
        {
          "output_type": "execute_result",
          "data": {
            "text/plain": [
              "  iso3c        date  population  estimated_daily_excess_deaths  \\\n",
              "0   ABW  2020-01-01      106459                       0.000000   \n",
              "1   AFG  2020-01-01    41128772                      -2.679549   \n",
              "2   AGO  2020-01-01    35588996                      35.069478   \n",
              "\n",
              "   estimated_daily_excess_deaths_ci_95_top  \\\n",
              "0                                 0.078784   \n",
              "1                                17.497665   \n",
              "2                                65.499067   \n",
              "\n",
              "   estimated_daily_excess_deaths_ci_90_top  \\\n",
              "0                                 0.048452   \n",
              "1                                11.426295   \n",
              "2                                48.815249   \n",
              "\n",
              "   estimated_daily_excess_deaths_ci_50_top  \\\n",
              "0                                 0.018368   \n",
              "1                                 4.968848   \n",
              "2                                35.069478   \n",
              "\n",
              "   estimated_daily_excess_deaths_ci_50_bot  \\\n",
              "0                                -0.014388   \n",
              "1                                -2.733654   \n",
              "2                                 1.409343   \n",
              "\n",
              "   estimated_daily_excess_deaths_ci_90_bot  \\\n",
              "0                                -0.048685   \n",
              "1                                -9.846408   \n",
              "2                                -4.071577   \n",
              "\n",
              "   estimated_daily_excess_deaths_ci_95_bot  \\\n",
              "0                                -0.058070   \n",
              "1                               -16.672976   \n",
              "2                                -5.923728   \n",
              "\n",
              "   estimated_daily_excess_deaths_raw_estimate  daily_excess_deaths  \\\n",
              "0                                   -0.001593                  0.0   \n",
              "1                                   -2.679549                  NaN   \n",
              "2                                   35.069478                  NaN   \n",
              "\n",
              "   daily_covid_deaths  \n",
              "0                 0.0  \n",
              "1                 0.0  \n",
              "2                 0.0  "
            ],
            "text/html": [
              "\n",
              "  <div id=\"df-db69adb4-8471-4660-8f84-b6904e1e5ba8\" class=\"colab-df-container\">\n",
              "    <div>\n",
              "<style scoped>\n",
              "    .dataframe tbody tr th:only-of-type {\n",
              "        vertical-align: middle;\n",
              "    }\n",
              "\n",
              "    .dataframe tbody tr th {\n",
              "        vertical-align: top;\n",
              "    }\n",
              "\n",
              "    .dataframe thead th {\n",
              "        text-align: right;\n",
              "    }\n",
              "</style>\n",
              "<table border=\"1\" class=\"dataframe\">\n",
              "  <thead>\n",
              "    <tr style=\"text-align: right;\">\n",
              "      <th></th>\n",
              "      <th>iso3c</th>\n",
              "      <th>date</th>\n",
              "      <th>population</th>\n",
              "      <th>estimated_daily_excess_deaths</th>\n",
              "      <th>estimated_daily_excess_deaths_ci_95_top</th>\n",
              "      <th>estimated_daily_excess_deaths_ci_90_top</th>\n",
              "      <th>estimated_daily_excess_deaths_ci_50_top</th>\n",
              "      <th>estimated_daily_excess_deaths_ci_50_bot</th>\n",
              "      <th>estimated_daily_excess_deaths_ci_90_bot</th>\n",
              "      <th>estimated_daily_excess_deaths_ci_95_bot</th>\n",
              "      <th>estimated_daily_excess_deaths_raw_estimate</th>\n",
              "      <th>daily_excess_deaths</th>\n",
              "      <th>daily_covid_deaths</th>\n",
              "    </tr>\n",
              "  </thead>\n",
              "  <tbody>\n",
              "    <tr>\n",
              "      <th>0</th>\n",
              "      <td>ABW</td>\n",
              "      <td>2020-01-01</td>\n",
              "      <td>106459</td>\n",
              "      <td>0.000000</td>\n",
              "      <td>0.078784</td>\n",
              "      <td>0.048452</td>\n",
              "      <td>0.018368</td>\n",
              "      <td>-0.014388</td>\n",
              "      <td>-0.048685</td>\n",
              "      <td>-0.058070</td>\n",
              "      <td>-0.001593</td>\n",
              "      <td>0.0</td>\n",
              "      <td>0.0</td>\n",
              "    </tr>\n",
              "    <tr>\n",
              "      <th>1</th>\n",
              "      <td>AFG</td>\n",
              "      <td>2020-01-01</td>\n",
              "      <td>41128772</td>\n",
              "      <td>-2.679549</td>\n",
              "      <td>17.497665</td>\n",
              "      <td>11.426295</td>\n",
              "      <td>4.968848</td>\n",
              "      <td>-2.733654</td>\n",
              "      <td>-9.846408</td>\n",
              "      <td>-16.672976</td>\n",
              "      <td>-2.679549</td>\n",
              "      <td>NaN</td>\n",
              "      <td>0.0</td>\n",
              "    </tr>\n",
              "    <tr>\n",
              "      <th>2</th>\n",
              "      <td>AGO</td>\n",
              "      <td>2020-01-01</td>\n",
              "      <td>35588996</td>\n",
              "      <td>35.069478</td>\n",
              "      <td>65.499067</td>\n",
              "      <td>48.815249</td>\n",
              "      <td>35.069478</td>\n",
              "      <td>1.409343</td>\n",
              "      <td>-4.071577</td>\n",
              "      <td>-5.923728</td>\n",
              "      <td>35.069478</td>\n",
              "      <td>NaN</td>\n",
              "      <td>0.0</td>\n",
              "    </tr>\n",
              "  </tbody>\n",
              "</table>\n",
              "</div>\n",
              "    <div class=\"colab-df-buttons\">\n",
              "\n",
              "  <div class=\"colab-df-container\">\n",
              "    <button class=\"colab-df-convert\" onclick=\"convertToInteractive('df-db69adb4-8471-4660-8f84-b6904e1e5ba8')\"\n",
              "            title=\"Convert this dataframe to an interactive table.\"\n",
              "            style=\"display:none;\">\n",
              "\n",
              "  <svg xmlns=\"http://www.w3.org/2000/svg\" height=\"24px\" viewBox=\"0 -960 960 960\">\n",
              "    <path d=\"M120-120v-720h720v720H120Zm60-500h600v-160H180v160Zm220 220h160v-160H400v160Zm0 220h160v-160H400v160ZM180-400h160v-160H180v160Zm440 0h160v-160H620v160ZM180-180h160v-160H180v160Zm440 0h160v-160H620v160Z\"/>\n",
              "  </svg>\n",
              "    </button>\n",
              "\n",
              "  <style>\n",
              "    .colab-df-container {\n",
              "      display:flex;\n",
              "      gap: 12px;\n",
              "    }\n",
              "\n",
              "    .colab-df-convert {\n",
              "      background-color: #E8F0FE;\n",
              "      border: none;\n",
              "      border-radius: 50%;\n",
              "      cursor: pointer;\n",
              "      display: none;\n",
              "      fill: #1967D2;\n",
              "      height: 32px;\n",
              "      padding: 0 0 0 0;\n",
              "      width: 32px;\n",
              "    }\n",
              "\n",
              "    .colab-df-convert:hover {\n",
              "      background-color: #E2EBFA;\n",
              "      box-shadow: 0px 1px 2px rgba(60, 64, 67, 0.3), 0px 1px 3px 1px rgba(60, 64, 67, 0.15);\n",
              "      fill: #174EA6;\n",
              "    }\n",
              "\n",
              "    .colab-df-buttons div {\n",
              "      margin-bottom: 4px;\n",
              "    }\n",
              "\n",
              "    [theme=dark] .colab-df-convert {\n",
              "      background-color: #3B4455;\n",
              "      fill: #D2E3FC;\n",
              "    }\n",
              "\n",
              "    [theme=dark] .colab-df-convert:hover {\n",
              "      background-color: #434B5C;\n",
              "      box-shadow: 0px 1px 3px 1px rgba(0, 0, 0, 0.15);\n",
              "      filter: drop-shadow(0px 1px 2px rgba(0, 0, 0, 0.3));\n",
              "      fill: #FFFFFF;\n",
              "    }\n",
              "  </style>\n",
              "\n",
              "    <script>\n",
              "      const buttonEl =\n",
              "        document.querySelector('#df-db69adb4-8471-4660-8f84-b6904e1e5ba8 button.colab-df-convert');\n",
              "      buttonEl.style.display =\n",
              "        google.colab.kernel.accessAllowed ? 'block' : 'none';\n",
              "\n",
              "      async function convertToInteractive(key) {\n",
              "        const element = document.querySelector('#df-db69adb4-8471-4660-8f84-b6904e1e5ba8');\n",
              "        const dataTable =\n",
              "          await google.colab.kernel.invokeFunction('convertToInteractive',\n",
              "                                                    [key], {});\n",
              "        if (!dataTable) return;\n",
              "\n",
              "        const docLinkHtml = 'Like what you see? Visit the ' +\n",
              "          '<a target=\"_blank\" href=https://colab.research.google.com/notebooks/data_table.ipynb>data table notebook</a>'\n",
              "          + ' to learn more about interactive tables.';\n",
              "        element.innerHTML = '';\n",
              "        dataTable['output_type'] = 'display_data';\n",
              "        await google.colab.output.renderOutput(dataTable, element);\n",
              "        const docLink = document.createElement('div');\n",
              "        docLink.innerHTML = docLinkHtml;\n",
              "        element.appendChild(docLink);\n",
              "      }\n",
              "    </script>\n",
              "  </div>\n",
              "\n",
              "\n",
              "<div id=\"df-64f82eb4-b5bf-4349-ac0a-77a1e6697198\">\n",
              "  <button class=\"colab-df-quickchart\" onclick=\"quickchart('df-64f82eb4-b5bf-4349-ac0a-77a1e6697198')\"\n",
              "            title=\"Suggest charts\"\n",
              "            style=\"display:none;\">\n",
              "\n",
              "<svg xmlns=\"http://www.w3.org/2000/svg\" height=\"24px\"viewBox=\"0 0 24 24\"\n",
              "     width=\"24px\">\n",
              "    <g>\n",
              "        <path d=\"M19 3H5c-1.1 0-2 .9-2 2v14c0 1.1.9 2 2 2h14c1.1 0 2-.9 2-2V5c0-1.1-.9-2-2-2zM9 17H7v-7h2v7zm4 0h-2V7h2v10zm4 0h-2v-4h2v4z\"/>\n",
              "    </g>\n",
              "</svg>\n",
              "  </button>\n",
              "\n",
              "<style>\n",
              "  .colab-df-quickchart {\n",
              "      --bg-color: #E8F0FE;\n",
              "      --fill-color: #1967D2;\n",
              "      --hover-bg-color: #E2EBFA;\n",
              "      --hover-fill-color: #174EA6;\n",
              "      --disabled-fill-color: #AAA;\n",
              "      --disabled-bg-color: #DDD;\n",
              "  }\n",
              "\n",
              "  [theme=dark] .colab-df-quickchart {\n",
              "      --bg-color: #3B4455;\n",
              "      --fill-color: #D2E3FC;\n",
              "      --hover-bg-color: #434B5C;\n",
              "      --hover-fill-color: #FFFFFF;\n",
              "      --disabled-bg-color: #3B4455;\n",
              "      --disabled-fill-color: #666;\n",
              "  }\n",
              "\n",
              "  .colab-df-quickchart {\n",
              "    background-color: var(--bg-color);\n",
              "    border: none;\n",
              "    border-radius: 50%;\n",
              "    cursor: pointer;\n",
              "    display: none;\n",
              "    fill: var(--fill-color);\n",
              "    height: 32px;\n",
              "    padding: 0;\n",
              "    width: 32px;\n",
              "  }\n",
              "\n",
              "  .colab-df-quickchart:hover {\n",
              "    background-color: var(--hover-bg-color);\n",
              "    box-shadow: 0 1px 2px rgba(60, 64, 67, 0.3), 0 1px 3px 1px rgba(60, 64, 67, 0.15);\n",
              "    fill: var(--button-hover-fill-color);\n",
              "  }\n",
              "\n",
              "  .colab-df-quickchart-complete:disabled,\n",
              "  .colab-df-quickchart-complete:disabled:hover {\n",
              "    background-color: var(--disabled-bg-color);\n",
              "    fill: var(--disabled-fill-color);\n",
              "    box-shadow: none;\n",
              "  }\n",
              "\n",
              "  .colab-df-spinner {\n",
              "    border: 2px solid var(--fill-color);\n",
              "    border-color: transparent;\n",
              "    border-bottom-color: var(--fill-color);\n",
              "    animation:\n",
              "      spin 1s steps(1) infinite;\n",
              "  }\n",
              "\n",
              "  @keyframes spin {\n",
              "    0% {\n",
              "      border-color: transparent;\n",
              "      border-bottom-color: var(--fill-color);\n",
              "      border-left-color: var(--fill-color);\n",
              "    }\n",
              "    20% {\n",
              "      border-color: transparent;\n",
              "      border-left-color: var(--fill-color);\n",
              "      border-top-color: var(--fill-color);\n",
              "    }\n",
              "    30% {\n",
              "      border-color: transparent;\n",
              "      border-left-color: var(--fill-color);\n",
              "      border-top-color: var(--fill-color);\n",
              "      border-right-color: var(--fill-color);\n",
              "    }\n",
              "    40% {\n",
              "      border-color: transparent;\n",
              "      border-right-color: var(--fill-color);\n",
              "      border-top-color: var(--fill-color);\n",
              "    }\n",
              "    60% {\n",
              "      border-color: transparent;\n",
              "      border-right-color: var(--fill-color);\n",
              "    }\n",
              "    80% {\n",
              "      border-color: transparent;\n",
              "      border-right-color: var(--fill-color);\n",
              "      border-bottom-color: var(--fill-color);\n",
              "    }\n",
              "    90% {\n",
              "      border-color: transparent;\n",
              "      border-bottom-color: var(--fill-color);\n",
              "    }\n",
              "  }\n",
              "</style>\n",
              "\n",
              "  <script>\n",
              "    async function quickchart(key) {\n",
              "      const quickchartButtonEl =\n",
              "        document.querySelector('#' + key + ' button');\n",
              "      quickchartButtonEl.disabled = true;  // To prevent multiple clicks.\n",
              "      quickchartButtonEl.classList.add('colab-df-spinner');\n",
              "      try {\n",
              "        const charts = await google.colab.kernel.invokeFunction(\n",
              "            'suggestCharts', [key], {});\n",
              "      } catch (error) {\n",
              "        console.error('Error during call to suggestCharts:', error);\n",
              "      }\n",
              "      quickchartButtonEl.classList.remove('colab-df-spinner');\n",
              "      quickchartButtonEl.classList.add('colab-df-quickchart-complete');\n",
              "    }\n",
              "    (() => {\n",
              "      let quickchartButtonEl =\n",
              "        document.querySelector('#df-64f82eb4-b5bf-4349-ac0a-77a1e6697198 button');\n",
              "      quickchartButtonEl.style.display =\n",
              "        google.colab.kernel.accessAllowed ? 'block' : 'none';\n",
              "    })();\n",
              "  </script>\n",
              "</div>\n",
              "    </div>\n",
              "  </div>\n"
            ]
          },
          "metadata": {},
          "execution_count": 85
        }
      ]
    },
    {
      "cell_type": "markdown",
      "source": [
        "Tập dữ liệu \"export_country\" bao gồm các thông tin sau:\n",
        "\n",
        "iso3c: Mã ISO 3 ký tự đại diện cho quốc gia. Ví dụ: ABW cho Aruba, AFG cho Afghanistan, AGO cho Angola, vv.\n",
        "\n",
        "date: Ngày tháng năm, đại diện cho thời điểm ghi nhận dữ liệu.\n",
        "\n",
        "population: Dân số của quốc gia.\n",
        "\n",
        "estimated_daily_excess_deaths: Số lượng tử vong vượt quá mức bình thường ước tính hàng ngày.\n",
        "\n",
        "estimated_daily_excess_deaths_ci_95_top: Giá trị trên của khoảng tin cậy 95% cho ước tính số lượng tử vong vượt quá mức bình thường hàng ngày.\n",
        "\n",
        "estimated_daily_excess_deaths_ci_95_bot: Giá trị dưới của khoảng tin cậy 95% cho ước tính số lượng tử vong vượt quá mức bình thường hàng ngày.\n",
        "\n",
        "estimated_daily_excess_deaths_ci_90_top: Giá trị trên của khoảng tin cậy 90% cho ước tính số lượng tử vong vượt quá mức bình thường hàng ngày.\n",
        "\n",
        "estimated_daily_excess_deaths_ci_90_bot: Giá trị dưới của khoảng tin cậy 90% cho ước tính số lượng tử vong vượt quá mức bình thường hàng ngày.\n",
        "\n",
        "estimated_daily_excess_deaths_ci_50_top: Giá trị trên của khoảng tin cậy 50% cho ước tính số lượng tử vong vượt quá mức bình thường hàng ngày.\n",
        "\n",
        "estimated_daily_excess_deaths_ci_50_bot: Giá trị dưới của khoảng tin cậy 50% cho ước tính số lượng tử vong vượt quá mức bình thường hàng ngày.\n",
        "\n",
        "estimated_daily_excess_deaths_raw_estimate: Ước tính số lượng tử vong vượt quá mức bình thường hàng ngày.\n",
        "\n",
        "daily_excess_deaths: Số lượng tử vong vượt quá mức bình thường hàng ngày.\n",
        "\n",
        "daily_covid_deaths: Số lượng tử vong do Covid-19 hàng ngày."
      ],
      "metadata": {
        "id": "M0eDEUi5p_2M"
      }
    },
    {
      "cell_type": "markdown",
      "source": [
        "Dữ liệu được tổng hợp theo hàng tuần mỗi 7 ngày.\n",
        "\n",
        "Số tuần đã thu thập dữ liệu"
      ],
      "metadata": {
        "id": "pHKboBvLJvgo"
      }
    },
    {
      "cell_type": "code",
      "source": [
        "# Đếm số ngày duy nhất trong cột 'date'\n",
        "total_unique_days = df['date'].nunique()\n",
        "\n",
        "# Hiển thị tổng số ngày\n",
        "print(\"Tổng số ngày trong bộ dữ liệu là:\", total_unique_days)"
      ],
      "metadata": {
        "colab": {
          "base_uri": "https://localhost:8080/"
        },
        "id": "T2dOY4HGKlqT",
        "outputId": "fa62b3da-f048-46cd-de90-b0ff38fa2eca"
      },
      "execution_count": null,
      "outputs": [
        {
          "output_type": "stream",
          "name": "stdout",
          "text": [
            "Tổng số ngày trong bộ dữ liệu là: 204\n"
          ]
        }
      ]
    },
    {
      "cell_type": "markdown",
      "source": [
        "Số các quốc gia"
      ],
      "metadata": {
        "id": "PPl9cWQXJjJj"
      }
    },
    {
      "cell_type": "code",
      "source": [
        "# Lấy tất cả các quốc gia ban đầu\n",
        "unique_countries = df['iso3c'].unique()\n",
        "\n",
        "# Hiển thị danh sách các quốc gia\n",
        "# print(\"Tất cả các quốc gia ban đầu:\")\n",
        "# print(unique_countries)\n",
        "len(unique_countries)"
      ],
      "metadata": {
        "colab": {
          "base_uri": "https://localhost:8080/"
        },
        "id": "AvPcQ7ZlDbhm",
        "outputId": "e566e254-4344-4887-f970-ddb57134dfa6"
      },
      "execution_count": null,
      "outputs": [
        {
          "output_type": "execute_result",
          "data": {
            "text/plain": [
              "236"
            ]
          },
          "metadata": {},
          "execution_count": 76
        }
      ]
    },
    {
      "cell_type": "markdown",
      "source": [
        "Các đại lượng thống kê mô tả"
      ],
      "metadata": {
        "id": "-m4kIDWluq0a"
      }
    },
    {
      "cell_type": "code",
      "source": [
        "df.describe()"
      ],
      "metadata": {
        "colab": {
          "base_uri": "https://localhost:8080/",
          "height": 320
        },
        "id": "74AYLoDLt54r",
        "outputId": "f53ddd3b-80ce-4185-ec20-2e3de8b1313f"
      },
      "execution_count": null,
      "outputs": [
        {
          "output_type": "execute_result",
          "data": {
            "text/plain": [
              "         population  estimated_daily_excess_deaths  \\\n",
              "count  4.814400e+04                   48144.000000   \n",
              "mean   3.369158e+07                      81.309961   \n",
              "std    1.359509e+08                     623.827826   \n",
              "min    4.700000e+01                   -2184.699190   \n",
              "25%    4.029042e+05                       0.000000   \n",
              "50%    5.462034e+06                       2.331660   \n",
              "75%    2.190542e+07                      29.873203   \n",
              "max    1.425887e+09                   45304.916465   \n",
              "\n",
              "       estimated_daily_excess_deaths_ci_95_top  \\\n",
              "count                             48144.000000   \n",
              "mean                                180.611919   \n",
              "std                                1101.261580   \n",
              "min                                -232.984833   \n",
              "25%                                   1.045943   \n",
              "50%                                  15.481541   \n",
              "75%                                  80.063411   \n",
              "max                               59850.513433   \n",
              "\n",
              "       estimated_daily_excess_deaths_ci_90_top  \\\n",
              "count                             48144.000000   \n",
              "mean                                156.440583   \n",
              "std                                 957.444863   \n",
              "min                                -332.348963   \n",
              "25%                                   0.835419   \n",
              "50%                                  12.902090   \n",
              "75%                                  69.013868   \n",
              "max                               50711.059352   \n",
              "\n",
              "       estimated_daily_excess_deaths_ci_50_top  \\\n",
              "count                             48144.000000   \n",
              "mean                                105.174693   \n",
              "std                                 687.544834   \n",
              "min                                -941.802351   \n",
              "25%                                   0.284673   \n",
              "50%                                   6.678391   \n",
              "75%                                  43.891482   \n",
              "max                               45304.916465   \n",
              "\n",
              "       estimated_daily_excess_deaths_ci_50_bot  \\\n",
              "count                             48144.000000   \n",
              "mean                                 44.968123   \n",
              "std                                 347.359113   \n",
              "min                               -2186.587811   \n",
              "25%                                  -0.183486   \n",
              "50%                                   0.369618   \n",
              "75%                                  13.020853   \n",
              "max                               20246.461819   \n",
              "\n",
              "       estimated_daily_excess_deaths_ci_90_bot  \\\n",
              "count                             48144.000000   \n",
              "mean                                 20.916530   \n",
              "std                                 251.508907   \n",
              "min                               -3646.760614   \n",
              "25%                                  -3.174201   \n",
              "50%                                  -0.094867   \n",
              "75%                                   3.215542   \n",
              "max                               14871.834122   \n",
              "\n",
              "       estimated_daily_excess_deaths_ci_95_bot  \\\n",
              "count                             48144.000000   \n",
              "mean                                 11.996984   \n",
              "std                                 231.364333   \n",
              "min                               -4162.684812   \n",
              "25%                                  -5.845974   \n",
              "50%                                  -0.292377   \n",
              "75%                                   0.944736   \n",
              "max                               13697.898389   \n",
              "\n",
              "       estimated_daily_excess_deaths_raw_estimate  daily_excess_deaths  \\\n",
              "count                                48144.000000         18703.000000   \n",
              "mean                                    81.064235            74.766305   \n",
              "std                                    620.837685           273.399592   \n",
              "min                                  -1421.208039         -2184.699190   \n",
              "25%                                      0.002455            -0.111717   \n",
              "50%                                      2.676129             5.165320   \n",
              "75%                                     29.774490            38.954775   \n",
              "max                                  45304.916465          4067.524873   \n",
              "\n",
              "       daily_covid_deaths  \n",
              "count        47281.000000  \n",
              "mean            21.070569  \n",
              "std            125.353989  \n",
              "min              0.000000  \n",
              "25%              0.000000  \n",
              "50%              0.143000  \n",
              "75%              3.143000  \n",
              "max           4190.000000  "
            ],
            "text/html": [
              "\n",
              "  <div id=\"df-f8af45ae-bccf-41fd-87cd-ebb3a91c5661\" class=\"colab-df-container\">\n",
              "    <div>\n",
              "<style scoped>\n",
              "    .dataframe tbody tr th:only-of-type {\n",
              "        vertical-align: middle;\n",
              "    }\n",
              "\n",
              "    .dataframe tbody tr th {\n",
              "        vertical-align: top;\n",
              "    }\n",
              "\n",
              "    .dataframe thead th {\n",
              "        text-align: right;\n",
              "    }\n",
              "</style>\n",
              "<table border=\"1\" class=\"dataframe\">\n",
              "  <thead>\n",
              "    <tr style=\"text-align: right;\">\n",
              "      <th></th>\n",
              "      <th>population</th>\n",
              "      <th>estimated_daily_excess_deaths</th>\n",
              "      <th>estimated_daily_excess_deaths_ci_95_top</th>\n",
              "      <th>estimated_daily_excess_deaths_ci_90_top</th>\n",
              "      <th>estimated_daily_excess_deaths_ci_50_top</th>\n",
              "      <th>estimated_daily_excess_deaths_ci_50_bot</th>\n",
              "      <th>estimated_daily_excess_deaths_ci_90_bot</th>\n",
              "      <th>estimated_daily_excess_deaths_ci_95_bot</th>\n",
              "      <th>estimated_daily_excess_deaths_raw_estimate</th>\n",
              "      <th>daily_excess_deaths</th>\n",
              "      <th>daily_covid_deaths</th>\n",
              "    </tr>\n",
              "  </thead>\n",
              "  <tbody>\n",
              "    <tr>\n",
              "      <th>count</th>\n",
              "      <td>4.814400e+04</td>\n",
              "      <td>48144.000000</td>\n",
              "      <td>48144.000000</td>\n",
              "      <td>48144.000000</td>\n",
              "      <td>48144.000000</td>\n",
              "      <td>48144.000000</td>\n",
              "      <td>48144.000000</td>\n",
              "      <td>48144.000000</td>\n",
              "      <td>48144.000000</td>\n",
              "      <td>18703.000000</td>\n",
              "      <td>47281.000000</td>\n",
              "    </tr>\n",
              "    <tr>\n",
              "      <th>mean</th>\n",
              "      <td>3.369158e+07</td>\n",
              "      <td>81.309961</td>\n",
              "      <td>180.611919</td>\n",
              "      <td>156.440583</td>\n",
              "      <td>105.174693</td>\n",
              "      <td>44.968123</td>\n",
              "      <td>20.916530</td>\n",
              "      <td>11.996984</td>\n",
              "      <td>81.064235</td>\n",
              "      <td>74.766305</td>\n",
              "      <td>21.070569</td>\n",
              "    </tr>\n",
              "    <tr>\n",
              "      <th>std</th>\n",
              "      <td>1.359509e+08</td>\n",
              "      <td>623.827826</td>\n",
              "      <td>1101.261580</td>\n",
              "      <td>957.444863</td>\n",
              "      <td>687.544834</td>\n",
              "      <td>347.359113</td>\n",
              "      <td>251.508907</td>\n",
              "      <td>231.364333</td>\n",
              "      <td>620.837685</td>\n",
              "      <td>273.399592</td>\n",
              "      <td>125.353989</td>\n",
              "    </tr>\n",
              "    <tr>\n",
              "      <th>min</th>\n",
              "      <td>4.700000e+01</td>\n",
              "      <td>-2184.699190</td>\n",
              "      <td>-232.984833</td>\n",
              "      <td>-332.348963</td>\n",
              "      <td>-941.802351</td>\n",
              "      <td>-2186.587811</td>\n",
              "      <td>-3646.760614</td>\n",
              "      <td>-4162.684812</td>\n",
              "      <td>-1421.208039</td>\n",
              "      <td>-2184.699190</td>\n",
              "      <td>0.000000</td>\n",
              "    </tr>\n",
              "    <tr>\n",
              "      <th>25%</th>\n",
              "      <td>4.029042e+05</td>\n",
              "      <td>0.000000</td>\n",
              "      <td>1.045943</td>\n",
              "      <td>0.835419</td>\n",
              "      <td>0.284673</td>\n",
              "      <td>-0.183486</td>\n",
              "      <td>-3.174201</td>\n",
              "      <td>-5.845974</td>\n",
              "      <td>0.002455</td>\n",
              "      <td>-0.111717</td>\n",
              "      <td>0.000000</td>\n",
              "    </tr>\n",
              "    <tr>\n",
              "      <th>50%</th>\n",
              "      <td>5.462034e+06</td>\n",
              "      <td>2.331660</td>\n",
              "      <td>15.481541</td>\n",
              "      <td>12.902090</td>\n",
              "      <td>6.678391</td>\n",
              "      <td>0.369618</td>\n",
              "      <td>-0.094867</td>\n",
              "      <td>-0.292377</td>\n",
              "      <td>2.676129</td>\n",
              "      <td>5.165320</td>\n",
              "      <td>0.143000</td>\n",
              "    </tr>\n",
              "    <tr>\n",
              "      <th>75%</th>\n",
              "      <td>2.190542e+07</td>\n",
              "      <td>29.873203</td>\n",
              "      <td>80.063411</td>\n",
              "      <td>69.013868</td>\n",
              "      <td>43.891482</td>\n",
              "      <td>13.020853</td>\n",
              "      <td>3.215542</td>\n",
              "      <td>0.944736</td>\n",
              "      <td>29.774490</td>\n",
              "      <td>38.954775</td>\n",
              "      <td>3.143000</td>\n",
              "    </tr>\n",
              "    <tr>\n",
              "      <th>max</th>\n",
              "      <td>1.425887e+09</td>\n",
              "      <td>45304.916465</td>\n",
              "      <td>59850.513433</td>\n",
              "      <td>50711.059352</td>\n",
              "      <td>45304.916465</td>\n",
              "      <td>20246.461819</td>\n",
              "      <td>14871.834122</td>\n",
              "      <td>13697.898389</td>\n",
              "      <td>45304.916465</td>\n",
              "      <td>4067.524873</td>\n",
              "      <td>4190.000000</td>\n",
              "    </tr>\n",
              "  </tbody>\n",
              "</table>\n",
              "</div>\n",
              "    <div class=\"colab-df-buttons\">\n",
              "\n",
              "  <div class=\"colab-df-container\">\n",
              "    <button class=\"colab-df-convert\" onclick=\"convertToInteractive('df-f8af45ae-bccf-41fd-87cd-ebb3a91c5661')\"\n",
              "            title=\"Convert this dataframe to an interactive table.\"\n",
              "            style=\"display:none;\">\n",
              "\n",
              "  <svg xmlns=\"http://www.w3.org/2000/svg\" height=\"24px\" viewBox=\"0 -960 960 960\">\n",
              "    <path d=\"M120-120v-720h720v720H120Zm60-500h600v-160H180v160Zm220 220h160v-160H400v160Zm0 220h160v-160H400v160ZM180-400h160v-160H180v160Zm440 0h160v-160H620v160ZM180-180h160v-160H180v160Zm440 0h160v-160H620v160Z\"/>\n",
              "  </svg>\n",
              "    </button>\n",
              "\n",
              "  <style>\n",
              "    .colab-df-container {\n",
              "      display:flex;\n",
              "      gap: 12px;\n",
              "    }\n",
              "\n",
              "    .colab-df-convert {\n",
              "      background-color: #E8F0FE;\n",
              "      border: none;\n",
              "      border-radius: 50%;\n",
              "      cursor: pointer;\n",
              "      display: none;\n",
              "      fill: #1967D2;\n",
              "      height: 32px;\n",
              "      padding: 0 0 0 0;\n",
              "      width: 32px;\n",
              "    }\n",
              "\n",
              "    .colab-df-convert:hover {\n",
              "      background-color: #E2EBFA;\n",
              "      box-shadow: 0px 1px 2px rgba(60, 64, 67, 0.3), 0px 1px 3px 1px rgba(60, 64, 67, 0.15);\n",
              "      fill: #174EA6;\n",
              "    }\n",
              "\n",
              "    .colab-df-buttons div {\n",
              "      margin-bottom: 4px;\n",
              "    }\n",
              "\n",
              "    [theme=dark] .colab-df-convert {\n",
              "      background-color: #3B4455;\n",
              "      fill: #D2E3FC;\n",
              "    }\n",
              "\n",
              "    [theme=dark] .colab-df-convert:hover {\n",
              "      background-color: #434B5C;\n",
              "      box-shadow: 0px 1px 3px 1px rgba(0, 0, 0, 0.15);\n",
              "      filter: drop-shadow(0px 1px 2px rgba(0, 0, 0, 0.3));\n",
              "      fill: #FFFFFF;\n",
              "    }\n",
              "  </style>\n",
              "\n",
              "    <script>\n",
              "      const buttonEl =\n",
              "        document.querySelector('#df-f8af45ae-bccf-41fd-87cd-ebb3a91c5661 button.colab-df-convert');\n",
              "      buttonEl.style.display =\n",
              "        google.colab.kernel.accessAllowed ? 'block' : 'none';\n",
              "\n",
              "      async function convertToInteractive(key) {\n",
              "        const element = document.querySelector('#df-f8af45ae-bccf-41fd-87cd-ebb3a91c5661');\n",
              "        const dataTable =\n",
              "          await google.colab.kernel.invokeFunction('convertToInteractive',\n",
              "                                                    [key], {});\n",
              "        if (!dataTable) return;\n",
              "\n",
              "        const docLinkHtml = 'Like what you see? Visit the ' +\n",
              "          '<a target=\"_blank\" href=https://colab.research.google.com/notebooks/data_table.ipynb>data table notebook</a>'\n",
              "          + ' to learn more about interactive tables.';\n",
              "        element.innerHTML = '';\n",
              "        dataTable['output_type'] = 'display_data';\n",
              "        await google.colab.output.renderOutput(dataTable, element);\n",
              "        const docLink = document.createElement('div');\n",
              "        docLink.innerHTML = docLinkHtml;\n",
              "        element.appendChild(docLink);\n",
              "      }\n",
              "    </script>\n",
              "  </div>\n",
              "\n",
              "\n",
              "<div id=\"df-63e854a8-0e8d-48ba-9b65-56295e1e2f26\">\n",
              "  <button class=\"colab-df-quickchart\" onclick=\"quickchart('df-63e854a8-0e8d-48ba-9b65-56295e1e2f26')\"\n",
              "            title=\"Suggest charts\"\n",
              "            style=\"display:none;\">\n",
              "\n",
              "<svg xmlns=\"http://www.w3.org/2000/svg\" height=\"24px\"viewBox=\"0 0 24 24\"\n",
              "     width=\"24px\">\n",
              "    <g>\n",
              "        <path d=\"M19 3H5c-1.1 0-2 .9-2 2v14c0 1.1.9 2 2 2h14c1.1 0 2-.9 2-2V5c0-1.1-.9-2-2-2zM9 17H7v-7h2v7zm4 0h-2V7h2v10zm4 0h-2v-4h2v4z\"/>\n",
              "    </g>\n",
              "</svg>\n",
              "  </button>\n",
              "\n",
              "<style>\n",
              "  .colab-df-quickchart {\n",
              "      --bg-color: #E8F0FE;\n",
              "      --fill-color: #1967D2;\n",
              "      --hover-bg-color: #E2EBFA;\n",
              "      --hover-fill-color: #174EA6;\n",
              "      --disabled-fill-color: #AAA;\n",
              "      --disabled-bg-color: #DDD;\n",
              "  }\n",
              "\n",
              "  [theme=dark] .colab-df-quickchart {\n",
              "      --bg-color: #3B4455;\n",
              "      --fill-color: #D2E3FC;\n",
              "      --hover-bg-color: #434B5C;\n",
              "      --hover-fill-color: #FFFFFF;\n",
              "      --disabled-bg-color: #3B4455;\n",
              "      --disabled-fill-color: #666;\n",
              "  }\n",
              "\n",
              "  .colab-df-quickchart {\n",
              "    background-color: var(--bg-color);\n",
              "    border: none;\n",
              "    border-radius: 50%;\n",
              "    cursor: pointer;\n",
              "    display: none;\n",
              "    fill: var(--fill-color);\n",
              "    height: 32px;\n",
              "    padding: 0;\n",
              "    width: 32px;\n",
              "  }\n",
              "\n",
              "  .colab-df-quickchart:hover {\n",
              "    background-color: var(--hover-bg-color);\n",
              "    box-shadow: 0 1px 2px rgba(60, 64, 67, 0.3), 0 1px 3px 1px rgba(60, 64, 67, 0.15);\n",
              "    fill: var(--button-hover-fill-color);\n",
              "  }\n",
              "\n",
              "  .colab-df-quickchart-complete:disabled,\n",
              "  .colab-df-quickchart-complete:disabled:hover {\n",
              "    background-color: var(--disabled-bg-color);\n",
              "    fill: var(--disabled-fill-color);\n",
              "    box-shadow: none;\n",
              "  }\n",
              "\n",
              "  .colab-df-spinner {\n",
              "    border: 2px solid var(--fill-color);\n",
              "    border-color: transparent;\n",
              "    border-bottom-color: var(--fill-color);\n",
              "    animation:\n",
              "      spin 1s steps(1) infinite;\n",
              "  }\n",
              "\n",
              "  @keyframes spin {\n",
              "    0% {\n",
              "      border-color: transparent;\n",
              "      border-bottom-color: var(--fill-color);\n",
              "      border-left-color: var(--fill-color);\n",
              "    }\n",
              "    20% {\n",
              "      border-color: transparent;\n",
              "      border-left-color: var(--fill-color);\n",
              "      border-top-color: var(--fill-color);\n",
              "    }\n",
              "    30% {\n",
              "      border-color: transparent;\n",
              "      border-left-color: var(--fill-color);\n",
              "      border-top-color: var(--fill-color);\n",
              "      border-right-color: var(--fill-color);\n",
              "    }\n",
              "    40% {\n",
              "      border-color: transparent;\n",
              "      border-right-color: var(--fill-color);\n",
              "      border-top-color: var(--fill-color);\n",
              "    }\n",
              "    60% {\n",
              "      border-color: transparent;\n",
              "      border-right-color: var(--fill-color);\n",
              "    }\n",
              "    80% {\n",
              "      border-color: transparent;\n",
              "      border-right-color: var(--fill-color);\n",
              "      border-bottom-color: var(--fill-color);\n",
              "    }\n",
              "    90% {\n",
              "      border-color: transparent;\n",
              "      border-bottom-color: var(--fill-color);\n",
              "    }\n",
              "  }\n",
              "</style>\n",
              "\n",
              "  <script>\n",
              "    async function quickchart(key) {\n",
              "      const quickchartButtonEl =\n",
              "        document.querySelector('#' + key + ' button');\n",
              "      quickchartButtonEl.disabled = true;  // To prevent multiple clicks.\n",
              "      quickchartButtonEl.classList.add('colab-df-spinner');\n",
              "      try {\n",
              "        const charts = await google.colab.kernel.invokeFunction(\n",
              "            'suggestCharts', [key], {});\n",
              "      } catch (error) {\n",
              "        console.error('Error during call to suggestCharts:', error);\n",
              "      }\n",
              "      quickchartButtonEl.classList.remove('colab-df-spinner');\n",
              "      quickchartButtonEl.classList.add('colab-df-quickchart-complete');\n",
              "    }\n",
              "    (() => {\n",
              "      let quickchartButtonEl =\n",
              "        document.querySelector('#df-63e854a8-0e8d-48ba-9b65-56295e1e2f26 button');\n",
              "      quickchartButtonEl.style.display =\n",
              "        google.colab.kernel.accessAllowed ? 'block' : 'none';\n",
              "    })();\n",
              "  </script>\n",
              "</div>\n",
              "    </div>\n",
              "  </div>\n"
            ]
          },
          "metadata": {},
          "execution_count": 77
        }
      ]
    },
    {
      "cell_type": "markdown",
      "source": [
        "Top 5 quốc gia có số ca tử vong do COVID-19 nhiều nhất"
      ],
      "metadata": {
        "id": "Pb4iR4V7pbN7"
      }
    },
    {
      "cell_type": "code",
      "source": [
        "# Lọc các dòng có thông tin về COVID-19\n",
        "covid_data = df[['iso3c', 'date', 'daily_covid_deaths']].dropna()\n",
        "\n",
        "# Tính tổng số ca tử vong cho mỗi quốc gia\n",
        "total_covid_deaths = covid_data.groupby('iso3c')['daily_covid_deaths'].sum().reset_index()\n",
        "\n",
        "# Tìm top 5 quốc gia có số ca tử vong nhiều nhất\n",
        "top_countries = total_covid_deaths.nlargest(5, 'daily_covid_deaths')\n",
        "\n",
        "print(\"Top 5 quốc gia có số ca tử vong do COVID-19 nhiều nhất:\")\n",
        "print(top_countries)"
      ],
      "metadata": {
        "colab": {
          "base_uri": "https://localhost:8080/"
        },
        "id": "tosElnf4nLe6",
        "outputId": "f0d1cceb-e136-40ce-84ee-85f97cc5c064"
      },
      "execution_count": null,
      "outputs": [
        {
          "output_type": "stream",
          "name": "stdout",
          "text": [
            "Top 5 quốc gia có số ca tử vong do COVID-19 nhiều nhất:\n",
            "    iso3c  daily_covid_deaths\n",
            "217   USA          161369.863\n",
            "28    BRA          100665.570\n",
            "94    IND           76184.861\n",
            "176   RUS           57179.431\n",
            "131   MEX           47821.708\n"
          ]
        }
      ]
    },
    {
      "cell_type": "markdown",
      "source": [
        "Top 5 quốc gia có số ca tử vong vượt quá mức bình thường nhiều nhất"
      ],
      "metadata": {
        "id": "ew3sZpgqpXWi"
      }
    },
    {
      "cell_type": "code",
      "source": [
        "# Lọc các dòng có thông tin về COVID-19\n",
        "covid_data = df[['iso3c', 'date', 'daily_excess_deaths']].dropna()\n",
        "\n",
        "# Tính tổng số ca tử vong cho mỗi quốc gia\n",
        "total_covid_deaths = covid_data.groupby('iso3c')['daily_excess_deaths'].sum().reset_index()\n",
        "\n",
        "# Tìm top 5 quốc gia có số ca tử vong nhiều nhất\n",
        "top_countries = total_covid_deaths.nlargest(5, 'daily_excess_deaths')\n",
        "\n",
        "print(\"Top 5 quốc gia có số ca tử vong vượt quá mức bình thường nhiều nhất:\")\n",
        "print(top_countries)"
      ],
      "metadata": {
        "colab": {
          "base_uri": "https://localhost:8080/"
        },
        "id": "IhsQU0_fnWj2",
        "outputId": "f421816e-5dc7-4ce1-bb7c-39f8c0d805de"
      },
      "execution_count": null,
      "outputs": [
        {
          "output_type": "stream",
          "name": "stdout",
          "text": [
            "Top 5 quốc gia có số ca tử vong vượt quá mức bình thường nhiều nhất:\n",
            "    iso3c  daily_excess_deaths\n",
            "112   USA        194513.983495\n",
            "95    RUS        166005.621286\n",
            "16    BRA        130553.321681\n",
            "73    MEX         93984.802970\n",
            "35    EGY         50935.858010\n"
          ]
        }
      ]
    },
    {
      "cell_type": "markdown",
      "source": [
        "Năm có số ca tử vong do COVID-19 nhiều nhất"
      ],
      "metadata": {
        "id": "qteNFh9xpVNo"
      }
    },
    {
      "cell_type": "code",
      "source": [
        "# Lọc các dòng có thông tin về COVID-19\n",
        "covid_data = df[['date', 'daily_covid_deaths']].dropna()\n",
        "\n",
        "# Chuyển đổi cột 'date' sang kiểu datetime\n",
        "covid_data['date'] = pd.to_datetime(covid_data['date'])\n",
        "\n",
        "# Trích xuất năm từ cột 'date'\n",
        "covid_data['year'] = covid_data['date'].dt.year\n",
        "\n",
        "# Tính tổng số ca tử vong cho mỗi năm\n",
        "total_deaths_by_year = covid_data.groupby('year')['daily_covid_deaths'].sum().reset_index()\n",
        "\n",
        "# Tìm năm có số ca tử vong nhiều nhất\n",
        "year_with_most_deaths = total_deaths_by_year.loc[total_deaths_by_year['daily_covid_deaths'].idxmax()]\n",
        "\n",
        "print(\"Năm có số ca tử vong do COVID-19 nhiều nhất:\")\n",
        "print(year_with_most_deaths)"
      ],
      "metadata": {
        "colab": {
          "base_uri": "https://localhost:8080/"
        },
        "id": "eQNJxdKeoAQ-",
        "outputId": "3c4d87e5-cb89-4ec6-9fda-7b8850dc00de"
      },
      "execution_count": null,
      "outputs": [
        {
          "output_type": "stream",
          "name": "stdout",
          "text": [
            "Năm có số ca tử vong do COVID-19 nhiều nhất:\n",
            "year                    2021.000\n",
            "daily_covid_deaths    506444.537\n",
            "Name: 1, dtype: float64\n"
          ]
        }
      ]
    },
    {
      "cell_type": "markdown",
      "source": [
        "Quốc gia ghi nhận có số ca tử vong hàng ngày do COVID-19 đầu tiên trên thế giới"
      ],
      "metadata": {
        "id": "MyKgbtxbpPyN"
      }
    },
    {
      "cell_type": "code",
      "source": [
        "# Lọc các dòng có thông tin về COVID-19\n",
        "covid_data = df[['iso3c', 'date', 'daily_covid_deaths']].dropna()\n",
        "\n",
        "# Chuyển đổi cột 'date' sang kiểu datetime\n",
        "covid_data['date'] = pd.to_datetime(covid_data['date'])\n",
        "\n",
        "# Lọc các dòng có số ca tử vong lớn hơn 0\n",
        "covid_data = covid_data[covid_data['daily_covid_deaths'] > 0]\n",
        "\n",
        "# Sắp xếp dữ liệu theo 'date'\n",
        "covid_data.sort_values('date', inplace=True)\n",
        "\n",
        "# Lấy dòng đầu tiên (đầu tiên trên thế giới)\n",
        "first_death_row = covid_data.iloc[0]\n",
        "\n",
        "# In thông tin về quốc gia có số ca tử vong đầu tiên\n",
        "print(\"Quốc gia ghi nhận có số ca tử vong hàng ngày do COVID-19 đầu tiên trên thế giới:\")\n",
        "print(first_death_row[['iso3c', 'date', 'daily_covid_deaths']])"
      ],
      "metadata": {
        "colab": {
          "base_uri": "https://localhost:8080/"
        },
        "id": "c3MOtORxooKd",
        "outputId": "6b387856-dc3e-4130-ae1e-ce1ef5a600c3"
      },
      "execution_count": null,
      "outputs": [
        {
          "output_type": "stream",
          "name": "stdout",
          "text": [
            "Quốc gia ghi nhận có số ca tử vong hàng ngày do COVID-19 đầu tiên trên thế giới:\n",
            "iso3c                                 DEU\n",
            "date                  2020-01-06 00:00:00\n",
            "daily_covid_deaths                   0.75\n",
            "Name: 288, dtype: object\n"
          ]
        }
      ]
    },
    {
      "cell_type": "markdown",
      "source": [
        "## Phát hiện và xử lý giá trị thiếu và giá trị ngoại lệ"
      ],
      "metadata": {
        "id": "vaiShlXLwE99"
      }
    },
    {
      "cell_type": "markdown",
      "source": [
        "### Kiểm tra giá trị thiếu"
      ],
      "metadata": {
        "id": "uwro4JIyXMOV"
      }
    },
    {
      "cell_type": "code",
      "source": [
        "df.info()"
      ],
      "metadata": {
        "colab": {
          "base_uri": "https://localhost:8080/"
        },
        "id": "Bq6yZoaStDys",
        "outputId": "6e1a9e6a-7675-49a4-c69a-6341d0252447"
      },
      "execution_count": null,
      "outputs": [
        {
          "output_type": "stream",
          "name": "stdout",
          "text": [
            "<class 'pandas.core.frame.DataFrame'>\n",
            "RangeIndex: 48144 entries, 0 to 48143\n",
            "Data columns (total 13 columns):\n",
            " #   Column                                      Non-Null Count  Dtype  \n",
            "---  ------                                      --------------  -----  \n",
            " 0   iso3c                                       48144 non-null  object \n",
            " 1   date                                        48144 non-null  object \n",
            " 2   population                                  48144 non-null  int64  \n",
            " 3   estimated_daily_excess_deaths               48144 non-null  float64\n",
            " 4   estimated_daily_excess_deaths_ci_95_top     48144 non-null  float64\n",
            " 5   estimated_daily_excess_deaths_ci_90_top     48144 non-null  float64\n",
            " 6   estimated_daily_excess_deaths_ci_50_top     48144 non-null  float64\n",
            " 7   estimated_daily_excess_deaths_ci_50_bot     48144 non-null  float64\n",
            " 8   estimated_daily_excess_deaths_ci_90_bot     48144 non-null  float64\n",
            " 9   estimated_daily_excess_deaths_ci_95_bot     48144 non-null  float64\n",
            " 10  estimated_daily_excess_deaths_raw_estimate  48144 non-null  float64\n",
            " 11  daily_excess_deaths                         18703 non-null  float64\n",
            " 12  daily_covid_deaths                          47281 non-null  float64\n",
            "dtypes: float64(10), int64(1), object(2)\n",
            "memory usage: 4.8+ MB\n"
          ]
        }
      ]
    },
    {
      "cell_type": "markdown",
      "source": [
        "Có thể thấy rằng cột \"daily_excess_deaths\" (cột 11) và \"daily_covid_deaths\" (cột 12) có số lượng dữ liệu không-null (non-null count) khác nhau so với các cột khác trong bảng dữ liệu. Điều này cho thấy rằng có một số dòng trong bảng dữ liệu không có giá trị cho tham số này."
      ],
      "metadata": {
        "id": "-z7OHIAZvIlg"
      }
    },
    {
      "cell_type": "code",
      "source": [
        "import missingno as mno\n",
        "fig = mno.matrix(df, figsize = (15,5), fontsize=12, color=(0.2, 0.2, 0.2))\n",
        "#sns.heatmap(df.isnull(),yticklabels=False,cbar=False,cmap='viridis')"
      ],
      "metadata": {
        "colab": {
          "base_uri": "https://localhost:8080/",
          "height": 519
        },
        "id": "A8zGZkreofa_",
        "outputId": "32b87293-418d-472d-c8eb-2d3787199f52"
      },
      "execution_count": null,
      "outputs": [
        {
          "output_type": "display_data",
          "data": {
            "text/plain": [
              "<Figure size 1500x500 with 2 Axes>"
            ],
            "image/png": "[encoded data removed]"
          },
          "metadata": {}
        }
      ]
    },
    {
      "cell_type": "code",
      "source": [
        "null_counts_11 = df['daily_excess_deaths'].isnull().sum()\n",
        "null_percentage_11 = null_counts_11 / len(df) * 100\n",
        "print(\"Number of null values in 'daily_excess_deaths':\", null_counts_11)\n",
        "print(\"Percentage of null values in 'daily_excess_deaths':\", null_percentage_11)\n",
        "\n",
        "null_counts_12 = df['daily_covid_deaths'].isnull().sum()\n",
        "null_percentage_12 = null_counts_12 / len(df) * 100\n",
        "print(\"Number of null values in 'daily_covid_deaths':\", null_counts_12)\n",
        "print(\"Percentage of null values in 'daily_covid_deaths':\", null_percentage_12)"
      ],
      "metadata": {
        "colab": {
          "base_uri": "https://localhost:8080/"
        },
        "id": "R6ul-xpa4NfK",
        "outputId": "d8a38587-6fd2-4845-97c0-733d71b02922"
      },
      "execution_count": null,
      "outputs": [
        {
          "output_type": "stream",
          "name": "stdout",
          "text": [
            "Number of null values in 'daily_excess_deaths': 29441\n",
            "Percentage of null values in 'daily_excess_deaths': 61.15196078431373\n",
            "Number of null values in 'daily_covid_deaths': 863\n",
            "Percentage of null values in 'daily_covid_deaths': 1.7925390495181124\n"
          ]
        }
      ]
    },
    {
      "cell_type": "markdown",
      "source": [
        "Với những dữ liệu bị thiếu ta có thể thay thế bằng các giá trị khác như 0, giá trị trung bình/trung vị,...\n",
        "\n",
        "Tuy nhiên,tỷ lệ null của cột daily_excess_deaths rất lớn nên ta không thể thay thế bằng giá trị cảm tính cho chúng vì điều đó có thể sẽ làm thay đổi những đặc trưng quan trọng của dữ liệu gốc.\n",
        "\n",
        "Và tỷ lệ null của cột daily_covid_deaths khá thấp nên khi xóa bỏ cũng không ảnh hưởng nhiều đến dữ liệu. Do đó, sẽ xóa đi những dữ liệu bị khuyết thiếu này."
      ],
      "metadata": {
        "id": "_p3sn5t84EAJ"
      }
    },
    {
      "cell_type": "code",
      "source": [
        "df= pd.read_csv('export_country.csv')\n",
        "df= pd.DataFrame(df)"
      ],
      "metadata": {
        "id": "7nK9DjqebjvF"
      },
      "execution_count": null,
      "outputs": []
    },
    {
      "cell_type": "code",
      "source": [
        "# Xóa hết các dòng có giá trị null trong cột 'daily_excess_deaths'\n",
        "df.dropna(subset=['daily_excess_deaths'], inplace=True)\n",
        "df.dropna(subset=['daily_covid_deaths'], inplace=True)"
      ],
      "metadata": {
        "id": "W-V9iKnwWXs7"
      },
      "execution_count": null,
      "outputs": []
    },
    {
      "cell_type": "markdown",
      "source": [
        "### Kiểm tra trùng, lặp dữ liệu"
      ],
      "metadata": {
        "id": "EiZ9q4HFbDzg"
      }
    },
    {
      "cell_type": "code",
      "source": [
        "df[df.duplicated(keep='first')]"
      ],
      "metadata": {
        "colab": {
          "base_uri": "https://localhost:8080/",
          "height": 73
        },
        "id": "0OTzhummdCrC",
        "outputId": "5c8ac3c9-aaaa-4959-8796-436838d6ad7a"
      },
      "execution_count": null,
      "outputs": [
        {
          "output_type": "execute_result",
          "data": {
            "text/plain": [
              "Empty DataFrame\n",
              "Columns: [iso3c, date, population, estimated_daily_excess_deaths, estimated_daily_excess_deaths_ci_95_top, estimated_daily_excess_deaths_ci_90_top, estimated_daily_excess_deaths_ci_50_top, estimated_daily_excess_deaths_ci_50_bot, estimated_daily_excess_deaths_ci_90_bot, estimated_daily_excess_deaths_ci_95_bot, estimated_daily_excess_deaths_raw_estimate, daily_excess_deaths, daily_covid_deaths]\n",
              "Index: []"
            ],
            "text/html": [
              "\n",
              "  <div id=\"df-54a4fc38-7872-42b4-bd24-127a3c7a65b2\" class=\"colab-df-container\">\n",
              "    <div>\n",
              "<style scoped>\n",
              "    .dataframe tbody tr th:only-of-type {\n",
              "        vertical-align: middle;\n",
              "    }\n",
              "\n",
              "    .dataframe tbody tr th {\n",
              "        vertical-align: top;\n",
              "    }\n",
              "\n",
              "    .dataframe thead th {\n",
              "        text-align: right;\n",
              "    }\n",
              "</style>\n",
              "<table border=\"1\" class=\"dataframe\">\n",
              "  <thead>\n",
              "    <tr style=\"text-align: right;\">\n",
              "      <th></th>\n",
              "      <th>iso3c</th>\n",
              "      <th>date</th>\n",
              "      <th>population</th>\n",
              "      <th>estimated_daily_excess_deaths</th>\n",
              "      <th>estimated_daily_excess_deaths_ci_95_top</th>\n",
              "      <th>estimated_daily_excess_deaths_ci_90_top</th>\n",
              "      <th>estimated_daily_excess_deaths_ci_50_top</th>\n",
              "      <th>estimated_daily_excess_deaths_ci_50_bot</th>\n",
              "      <th>estimated_daily_excess_deaths_ci_90_bot</th>\n",
              "      <th>estimated_daily_excess_deaths_ci_95_bot</th>\n",
              "      <th>estimated_daily_excess_deaths_raw_estimate</th>\n",
              "      <th>daily_excess_deaths</th>\n",
              "      <th>daily_covid_deaths</th>\n",
              "    </tr>\n",
              "  </thead>\n",
              "  <tbody>\n",
              "  </tbody>\n",
              "</table>\n",
              "</div>\n",
              "    <div class=\"colab-df-buttons\">\n",
              "\n",
              "  <div class=\"colab-df-container\">\n",
              "    <button class=\"colab-df-convert\" onclick=\"convertToInteractive('df-54a4fc38-7872-42b4-bd24-127a3c7a65b2')\"\n",
              "            title=\"Convert this dataframe to an interactive table.\"\n",
              "            style=\"display:none;\">\n",
              "\n",
              "  <svg xmlns=\"http://www.w3.org/2000/svg\" height=\"24px\" viewBox=\"0 -960 960 960\">\n",
              "    <path d=\"M120-120v-720h720v720H120Zm60-500h600v-160H180v160Zm220 220h160v-160H400v160Zm0 220h160v-160H400v160ZM180-400h160v-160H180v160Zm440 0h160v-160H620v160ZM180-180h160v-160H180v160Zm440 0h160v-160H620v160Z\"/>\n",
              "  </svg>\n",
              "    </button>\n",
              "\n",
              "  <style>\n",
              "    .colab-df-container {\n",
              "      display:flex;\n",
              "      gap: 12px;\n",
              "    }\n",
              "\n",
              "    .colab-df-convert {\n",
              "      background-color: #E8F0FE;\n",
              "      border: none;\n",
              "      border-radius: 50%;\n",
              "      cursor: pointer;\n",
              "      display: none;\n",
              "      fill: #1967D2;\n",
              "      height: 32px;\n",
              "      padding: 0 0 0 0;\n",
              "      width: 32px;\n",
              "    }\n",
              "\n",
              "    .colab-df-convert:hover {\n",
              "      background-color: #E2EBFA;\n",
              "      box-shadow: 0px 1px 2px rgba(60, 64, 67, 0.3), 0px 1px 3px 1px rgba(60, 64, 67, 0.15);\n",
              "      fill: #174EA6;\n",
              "    }\n",
              "\n",
              "    .colab-df-buttons div {\n",
              "      margin-bottom: 4px;\n",
              "    }\n",
              "\n",
              "    [theme=dark] .colab-df-convert {\n",
              "      background-color: #3B4455;\n",
              "      fill: #D2E3FC;\n",
              "    }\n",
              "\n",
              "    [theme=dark] .colab-df-convert:hover {\n",
              "      background-color: #434B5C;\n",
              "      box-shadow: 0px 1px 3px 1px rgba(0, 0, 0, 0.15);\n",
              "      filter: drop-shadow(0px 1px 2px rgba(0, 0, 0, 0.3));\n",
              "      fill: #FFFFFF;\n",
              "    }\n",
              "  </style>\n",
              "\n",
              "    <script>\n",
              "      const buttonEl =\n",
              "        document.querySelector('#df-54a4fc38-7872-42b4-bd24-127a3c7a65b2 button.colab-df-convert');\n",
              "      buttonEl.style.display =\n",
              "        google.colab.kernel.accessAllowed ? 'block' : 'none';\n",
              "\n",
              "      async function convertToInteractive(key) {\n",
              "        const element = document.querySelector('#df-54a4fc38-7872-42b4-bd24-127a3c7a65b2');\n",
              "        const dataTable =\n",
              "          await google.colab.kernel.invokeFunction('convertToInteractive',\n",
              "                                                    [key], {});\n",
              "        if (!dataTable) return;\n",
              "\n",
              "        const docLinkHtml = 'Like what you see? Visit the ' +\n",
              "          '<a target=\"_blank\" href=https://colab.research.google.com/notebooks/data_table.ipynb>data table notebook</a>'\n",
              "          + ' to learn more about interactive tables.';\n",
              "        element.innerHTML = '';\n",
              "        dataTable['output_type'] = 'display_data';\n",
              "        await google.colab.output.renderOutput(dataTable, element);\n",
              "        const docLink = document.createElement('div');\n",
              "        docLink.innerHTML = docLinkHtml;\n",
              "        element.appendChild(docLink);\n",
              "      }\n",
              "    </script>\n",
              "  </div>\n",
              "\n",
              "    </div>\n",
              "  </div>\n"
            ]
          },
          "metadata": {},
          "execution_count": 54
        }
      ]
    },
    {
      "cell_type": "code",
      "source": [
        "duplicates_all_columns = df[df.duplicated(['population', 'daily_excess_deaths', 'daily_covid_deaths','date'], keep='first')]\n",
        "duplicates_all_columns"
      ],
      "metadata": {
        "colab": {
          "base_uri": "https://localhost:8080/",
          "height": 73
        },
        "id": "QTRRASKcbH3J",
        "outputId": "98859594-3d0f-49f9-d2ed-c8a3924b880c"
      },
      "execution_count": null,
      "outputs": [
        {
          "output_type": "execute_result",
          "data": {
            "text/plain": [
              "Empty DataFrame\n",
              "Columns: [iso3c, date, population, estimated_daily_excess_deaths, estimated_daily_excess_deaths_ci_95_top, estimated_daily_excess_deaths_ci_90_top, estimated_daily_excess_deaths_ci_50_top, estimated_daily_excess_deaths_ci_50_bot, estimated_daily_excess_deaths_ci_90_bot, estimated_daily_excess_deaths_ci_95_bot, estimated_daily_excess_deaths_raw_estimate, daily_excess_deaths, daily_covid_deaths]\n",
              "Index: []"
            ],
            "text/html": [
              "\n",
              "  <div id=\"df-e572d025-1a12-4394-8db4-0e8289bee509\" class=\"colab-df-container\">\n",
              "    <div>\n",
              "<style scoped>\n",
              "    .dataframe tbody tr th:only-of-type {\n",
              "        vertical-align: middle;\n",
              "    }\n",
              "\n",
              "    .dataframe tbody tr th {\n",
              "        vertical-align: top;\n",
              "    }\n",
              "\n",
              "    .dataframe thead th {\n",
              "        text-align: right;\n",
              "    }\n",
              "</style>\n",
              "<table border=\"1\" class=\"dataframe\">\n",
              "  <thead>\n",
              "    <tr style=\"text-align: right;\">\n",
              "      <th></th>\n",
              "      <th>iso3c</th>\n",
              "      <th>date</th>\n",
              "      <th>population</th>\n",
              "      <th>estimated_daily_excess_deaths</th>\n",
              "      <th>estimated_daily_excess_deaths_ci_95_top</th>\n",
              "      <th>estimated_daily_excess_deaths_ci_90_top</th>\n",
              "      <th>estimated_daily_excess_deaths_ci_50_top</th>\n",
              "      <th>estimated_daily_excess_deaths_ci_50_bot</th>\n",
              "      <th>estimated_daily_excess_deaths_ci_90_bot</th>\n",
              "      <th>estimated_daily_excess_deaths_ci_95_bot</th>\n",
              "      <th>estimated_daily_excess_deaths_raw_estimate</th>\n",
              "      <th>daily_excess_deaths</th>\n",
              "      <th>daily_covid_deaths</th>\n",
              "    </tr>\n",
              "  </thead>\n",
              "  <tbody>\n",
              "  </tbody>\n",
              "</table>\n",
              "</div>\n",
              "    <div class=\"colab-df-buttons\">\n",
              "\n",
              "  <div class=\"colab-df-container\">\n",
              "    <button class=\"colab-df-convert\" onclick=\"convertToInteractive('df-e572d025-1a12-4394-8db4-0e8289bee509')\"\n",
              "            title=\"Convert this dataframe to an interactive table.\"\n",
              "            style=\"display:none;\">\n",
              "\n",
              "  <svg xmlns=\"http://www.w3.org/2000/svg\" height=\"24px\" viewBox=\"0 -960 960 960\">\n",
              "    <path d=\"M120-120v-720h720v720H120Zm60-500h600v-160H180v160Zm220 220h160v-160H400v160Zm0 220h160v-160H400v160ZM180-400h160v-160H180v160Zm440 0h160v-160H620v160ZM180-180h160v-160H180v160Zm440 0h160v-160H620v160Z\"/>\n",
              "  </svg>\n",
              "    </button>\n",
              "\n",
              "  <style>\n",
              "    .colab-df-container {\n",
              "      display:flex;\n",
              "      gap: 12px;\n",
              "    }\n",
              "\n",
              "    .colab-df-convert {\n",
              "      background-color: #E8F0FE;\n",
              "      border: none;\n",
              "      border-radius: 50%;\n",
              "      cursor: pointer;\n",
              "      display: none;\n",
              "      fill: #1967D2;\n",
              "      height: 32px;\n",
              "      padding: 0 0 0 0;\n",
              "      width: 32px;\n",
              "    }\n",
              "\n",
              "    .colab-df-convert:hover {\n",
              "      background-color: #E2EBFA;\n",
              "      box-shadow: 0px 1px 2px rgba(60, 64, 67, 0.3), 0px 1px 3px 1px rgba(60, 64, 67, 0.15);\n",
              "      fill: #174EA6;\n",
              "    }\n",
              "\n",
              "    .colab-df-buttons div {\n",
              "      margin-bottom: 4px;\n",
              "    }\n",
              "\n",
              "    [theme=dark] .colab-df-convert {\n",
              "      background-color: #3B4455;\n",
              "      fill: #D2E3FC;\n",
              "    }\n",
              "\n",
              "    [theme=dark] .colab-df-convert:hover {\n",
              "      background-color: #434B5C;\n",
              "      box-shadow: 0px 1px 3px 1px rgba(0, 0, 0, 0.15);\n",
              "      filter: drop-shadow(0px 1px 2px rgba(0, 0, 0, 0.3));\n",
              "      fill: #FFFFFF;\n",
              "    }\n",
              "  </style>\n",
              "\n",
              "    <script>\n",
              "      const buttonEl =\n",
              "        document.querySelector('#df-e572d025-1a12-4394-8db4-0e8289bee509 button.colab-df-convert');\n",
              "      buttonEl.style.display =\n",
              "        google.colab.kernel.accessAllowed ? 'block' : 'none';\n",
              "\n",
              "      async function convertToInteractive(key) {\n",
              "        const element = document.querySelector('#df-e572d025-1a12-4394-8db4-0e8289bee509');\n",
              "        const dataTable =\n",
              "          await google.colab.kernel.invokeFunction('convertToInteractive',\n",
              "                                                    [key], {});\n",
              "        if (!dataTable) return;\n",
              "\n",
              "        const docLinkHtml = 'Like what you see? Visit the ' +\n",
              "          '<a target=\"_blank\" href=https://colab.research.google.com/notebooks/data_table.ipynb>data table notebook</a>'\n",
              "          + ' to learn more about interactive tables.';\n",
              "        element.innerHTML = '';\n",
              "        dataTable['output_type'] = 'display_data';\n",
              "        await google.colab.output.renderOutput(dataTable, element);\n",
              "        const docLink = document.createElement('div');\n",
              "        docLink.innerHTML = docLinkHtml;\n",
              "        element.appendChild(docLink);\n",
              "      }\n",
              "    </script>\n",
              "  </div>\n",
              "\n",
              "    </div>\n",
              "  </div>\n"
            ]
          },
          "metadata": {},
          "execution_count": 55
        }
      ]
    },
    {
      "cell_type": "markdown",
      "source": [
        "### Kiểm tra ngoại lai"
      ],
      "metadata": {
        "id": "6Nje8e4gacuv"
      }
    },
    {
      "cell_type": "markdown",
      "source": [
        " Dữ liệu của chúng ta là tổng hợp từ nhiều quốc gia và không thuộc về một đối tượng cụ thể, do đó nó không có phân phối đặc trưng. Có sự chênh lệch lớn về dân số, ca bệnh xảy ra giữa các nước dẫn đến chỉ số IQR không thể đại diện để đánh giá được giá trị ngoại lai. Do đó, giá trị vượt ngưỡng IQR không phải là ngoại lai."
      ],
      "metadata": {
        "id": "M_P8VPtbzBaz"
      }
    },
    {
      "cell_type": "markdown",
      "source": [
        "# Phần 2: Mô hình Hóa và Xử lý Dữ liệu"
      ],
      "metadata": {
        "id": "p-R6YzW14J-q"
      }
    },
    {
      "cell_type": "markdown",
      "source": [
        "## Mô hình Random Forest\n",
        "\n",
        "Sử dụng mô hình Random Forest để dự đoán số lượng tử vong vượt quá mức bình thường hàng ngày( daily_excess_deaths)"
      ],
      "metadata": {
        "id": "h6EDv4Yb4eke"
      }
    },
    {
      "cell_type": "markdown",
      "source": [
        "Với đặc trưng của bộ dữ liệu này là tổng hợp từ nhiều quốc gia và không thuộc về một đối tượng cụ thể, việc sử dụng mô hình xử lý chuỗi thời gian có thể không phải là lựa chọn phù hợp nhất. Vì các mô hình xử lý chuỗi thời gian thường được thiết kế chủ yếu để mô hình hóa và dự đoán chuỗi thời gian của một biến liên tục theo thời gian.\n",
        "\n",
        "Trong trường hợp tổng hợp từ nhiều quốc gia, mô hình học máy như Random Forest sẽ phù hợp hơn. Mô hình Random Forest có khả năng làm việc tốt trên dữ liệu đa biến và có thể xử lý các đặc điểm phi tuyến, tương quan giữa các quốc gia, và các yếu tố phức tạp khác mà các mô hình chuỗi thời gian không thể mô hình hóa một cách hiệu quả.\n",
        "\n",
        "Một số ưu điểm khi chọn mô hình:\n",
        "\n",
        "Chức Năng của Dữ Liệu: có tính chất tổng hợp từ nhiều quốc gia, không có chuỗi thời gian cho đối tượng cụ thể, mô hình học máy như Random Forest có thể phản ánh tốt hơn đặc tính của dữ liệu.\n",
        "\n",
        "Tính Diễn Giải: Mô hình Random Forest có thể cung cấp sự linh hoạt hơn trong việc hiểu các yếu tố quyết định."
      ],
      "metadata": {
        "id": "ZawIun8I0Sv5"
      }
    },
    {
      "cell_type": "markdown",
      "source": [
        "## Tiền xử lý dữ liệu"
      ],
      "metadata": {
        "id": "MbdU_NN052cJ"
      }
    },
    {
      "cell_type": "markdown",
      "source": [
        "Chuyển đổi cột 'date' sang định dạng datetime.\n",
        "\n",
        "Đối với dữ liệu thời gian, việc sử dụng định dạng datetime giúp thuận tiện cho việc xử lý và phân tích."
      ],
      "metadata": {
        "id": "82OlMoiqbeIE"
      }
    },
    {
      "cell_type": "code",
      "source": [
        "df[\"date\"] = pd.to_datetime(df[\"date\"])"
      ],
      "metadata": {
        "id": "b3fxCZPLqeR0"
      },
      "execution_count": null,
      "outputs": []
    },
    {
      "cell_type": "markdown",
      "source": [
        "Chuẩn hóa đặc trưng:\n",
        "\n",
        "Với các cột dạng số liên tục có biên độ lớn. Ta cần làm giảm ảnh hưởng của biên độ lớn nhỏ khác nhau. Do đó ta sẽ tiêu chuẩn hóa biến này để đưa các giá trị về phạm vi nhất định gần nhau."
      ],
      "metadata": {
        "id": "_tiPKTuWbyXk"
      }
    },
    {
      "cell_type": "code",
      "source": [
        "# Chuẩn hóa đặc trưng\n",
        "scaler = StandardScaler()\n",
        "df[['population', 'estimated_daily_excess_deaths','daily_excess_deaths','daily_covid_deaths']] = scaler.fit_transform(df[['population', 'estimated_daily_excess_deaths','daily_excess_deaths','daily_covid_deaths']])"
      ],
      "metadata": {
        "id": "dBNXbSLY62Px"
      },
      "execution_count": null,
      "outputs": []
    },
    {
      "cell_type": "markdown",
      "source": [
        "Chia thành tập huấn luyện và tập kiểm thử với tỷ lệ 2/1\n",
        "\n",
        "Ta dùng daily_excess_deaths làm biến mục tiêu dự đoán bằng các cột còn lại.\n",
        "\n",
        "Không sử dụng cột iso3c vì đã có đặc trưng dân số có tính đại diện cho các nước.\n",
        "\n",
        "Không sử dụng cột date vì dữ liệu không có tính chuỗi thời gian mà gồm thông tin của nhiều đối tượng quốc gia."
      ],
      "metadata": {
        "id": "jF1PpWIBfbbb"
      }
    },
    {
      "cell_type": "code",
      "source": [
        "# Chia thành X và y\n",
        "X = df.drop(['iso3c','date','daily_excess_deaths'], axis=1)\n",
        "y = df['daily_excess_deaths']  # Sử dụng cột 'daily_excess_deaths' làm biến mục tiêu"
      ],
      "metadata": {
        "id": "522qXh8U63wl"
      },
      "execution_count": null,
      "outputs": []
    },
    {
      "cell_type": "code",
      "source": [
        "from sklearn.model_selection import train_test_split\n",
        "\n",
        "# Chia thành tập huấn luyện và tập kiểm thử\n",
        "X_train, X_test, y_train, y_test = train_test_split(X, y, test_size=1/3, random_state=42)\n",
        "\n",
        "# In kích thước của tập huấn luyện và tập kiểm thử\n",
        "print(\"Kích thước tập huấn luyện:\", X_train.shape[0])\n",
        "print(\"Kích thước tập kiểm thử:\", X_test.shape[0])"
      ],
      "metadata": {
        "colab": {
          "base_uri": "https://localhost:8080/"
        },
        "id": "DPmUVGeRQJ2l",
        "outputId": "a6c77eb0-bf97-4f01-c75b-1736edf687ed"
      },
      "execution_count": null,
      "outputs": [
        {
          "output_type": "stream",
          "name": "stdout",
          "text": [
            "Kích thước tập huấn luyện: 12076\n",
            "Kích thước tập kiểm thử: 6039\n"
          ]
        }
      ]
    },
    {
      "cell_type": "markdown",
      "source": [
        "## Huấn luyện mô hình và tối ưu hóa thông số"
      ],
      "metadata": {
        "id": "qPTS0blCWfMt"
      }
    },
    {
      "cell_type": "code",
      "source": [
        "# Tạo mô hình Random Forest\n",
        "rf = RandomForestRegressor()"
      ],
      "metadata": {
        "id": "5lu4km0J-mXN"
      },
      "execution_count": null,
      "outputs": []
    },
    {
      "cell_type": "code",
      "source": [
        "from sklearn.model_selection import RandomizedSearchCV\n",
        "from scipy.stats import uniform\n",
        "from scipy.stats import randint\n",
        "param_distributions = {'n_estimators': randint(1,200),\n",
        "                        'max_depth': randint(1,30),\n",
        "                        'min_samples_split': randint(2,20),\n",
        "                        'min_samples_leaf': randint(1, 10)}\n",
        "\n",
        "clf = RandomizedSearchCV(rf, param_distributions=param_distributions, n_iter=6)"
      ],
      "metadata": {
        "id": "jqC2C7c368LA"
      },
      "execution_count": null,
      "outputs": []
    },
    {
      "cell_type": "markdown",
      "source": [
        "Sử dụng RandomizedSearch để tìm kiếm tham số tối ưu cho mô hình:\n",
        "- Random Search có khả năng tìm ra các giá trị siêu tham số tốt hơn so với việc kiểm tra một số giá trị cố định theo lưới.\n",
        "- giảm khối lượng tính toán so với Grid Search vì số lượng kết hợp siêu tham số thử nghiệm ít hơn, nhưng vẫn giữ được khả năng tìm kiếm thông qua không gian lớn.\n",
        "- Ta sử dụng RandomizedSearchCV có kết hợp xác thực chéo giúp mô hình không overfitting trên tập huấn luyện"
      ],
      "metadata": {
        "id": "Wdy-2Tbdf9I5"
      }
    },
    {
      "cell_type": "markdown",
      "source": [
        "Sau quá trình đó chúng ta có mô hình tốt nhất có thông số như sau:"
      ],
      "metadata": {
        "id": "iVQDdzrqsTdb"
      }
    },
    {
      "cell_type": "code",
      "source": [
        "# Thực hiện RandomizedSearch\n",
        "tscv = TimeSeriesSplit(n_splits=5)\n",
        "rand_search = RandomizedSearchCV(rf, param_distributions, scoring='neg_mean_squared_error', cv=tscv)\n",
        "rand_result = rand_search.fit(X_train, y_train)\n",
        "\n",
        "# In kết quả\n",
        "print(\"Best parameters: \", rand_result.best_params_)\n",
        "print(\"Best score: \", rand_result.best_score_)"
      ],
      "metadata": {
        "colab": {
          "base_uri": "https://localhost:8080/"
        },
        "id": "L7Ljet-jQe7N",
        "outputId": "e3b50dd4-16ee-400f-e20b-b370d877aace"
      },
      "execution_count": null,
      "outputs": [
        {
          "output_type": "stream",
          "name": "stdout",
          "text": [
            "Best parameters:  {'max_depth': 12, 'min_samples_leaf': 1, 'min_samples_split': 3, 'n_estimators': 41}\n",
            "Best score:  -0.0018310763375505392\n"
          ]
        }
      ]
    },
    {
      "cell_type": "markdown",
      "source": [
        "# Phần 3: Đánh giá Mô hình"
      ],
      "metadata": {
        "id": "SPiiiNb6XiAo"
      }
    },
    {
      "cell_type": "markdown",
      "source": [
        "## Sử dụng chỉ số đánh giá mô hình"
      ],
      "metadata": {
        "id": "hsGbuP5GWYsJ"
      }
    },
    {
      "cell_type": "code",
      "source": [
        "best_rf_model = rand_result.best_estimator_"
      ],
      "metadata": {
        "id": "PlxRk63GOqwX"
      },
      "execution_count": null,
      "outputs": []
    },
    {
      "cell_type": "code",
      "execution_count": null,
      "metadata": {
        "id": "8869f448"
      },
      "outputs": [],
      "source": [
        "y_pred = rand_search.predict(X_test)"
      ]
    },
    {
      "cell_type": "markdown",
      "source": [
        "Mean Absolute Error"
      ],
      "metadata": {
        "id": "EPTpK1LKsdxe"
      }
    },
    {
      "cell_type": "code",
      "execution_count": null,
      "metadata": {
        "id": "0717b612",
        "outputId": "b8d2c7cf-5c33-4d22-890b-3be7f0a5bbb5",
        "colab": {
          "base_uri": "https://localhost:8080/"
        }
      },
      "outputs": [
        {
          "output_type": "stream",
          "name": "stdout",
          "text": [
            "Mean Absolute Error:  0.002949747765451485\n"
          ]
        }
      ],
      "source": [
        "from sklearn.metrics import mean_absolute_error\n",
        "mae = mean_absolute_error(y_test, y_pred)\n",
        "print(\"Mean Absolute Error: \", mae)"
      ]
    },
    {
      "cell_type": "markdown",
      "source": [
        "Mean Squared Error"
      ],
      "metadata": {
        "id": "kymqRgY8sfjg"
      }
    },
    {
      "cell_type": "code",
      "source": [
        "from sklearn.metrics import mean_squared_error\n",
        "mse = mean_squared_error(y_test, y_pred)\n",
        "print(\"Mean Squared Error: \", mse)\n"
      ],
      "metadata": {
        "colab": {
          "base_uri": "https://localhost:8080/"
        },
        "id": "QA_-b-HNRdJ0",
        "outputId": "3083840f-7dff-4dbf-9841-2fd7a169e12d"
      },
      "execution_count": null,
      "outputs": [
        {
          "output_type": "stream",
          "name": "stdout",
          "text": [
            "Mean Squared Error:  0.002256358176607197\n"
          ]
        }
      ]
    },
    {
      "cell_type": "markdown",
      "source": [
        "R-squared"
      ],
      "metadata": {
        "id": "BgE6z1ujshDU"
      }
    },
    {
      "cell_type": "code",
      "source": [
        "from sklearn.metrics import r2_score\n",
        "r2 = r2_score(y_test, y_pred)\n",
        "print(\"R-squared: \", r2)"
      ],
      "metadata": {
        "colab": {
          "base_uri": "https://localhost:8080/"
        },
        "id": "GTpyf-WzThlK",
        "outputId": "a5c91e18-b6f4-44ba-af14-cf679beac1c2"
      },
      "execution_count": null,
      "outputs": [
        {
          "output_type": "stream",
          "name": "stdout",
          "text": [
            "R-squared:  0.9980081111239586\n"
          ]
        }
      ]
    },
    {
      "cell_type": "markdown",
      "source": [
        "## Phân tích và Giải thích kết quả đánh giá"
      ],
      "metadata": {
        "id": "6GOVF9l7WTbk"
      }
    },
    {
      "cell_type": "markdown",
      "source": [
        "\n",
        "Sai số Trung bình Tuyệt đối (MAE): 0.00294\n",
        "\n",
        "MAE đại diện cho sự chênh lệch tuyệt đối trung bình giữa giá trị thực và giá trị dự đoán. Kết quả cho thấy trung bình, các dự đoán của mô hình gần với giá trị thực.\n",
        "\n",
        "Sai số Bình phương Trung bình (MSE): 0.00225\n",
        "\n",
        "MSE đo lường sự chênh lệch bình phương trung bình giữa giá trị thực và giá trị dự đoán. Giống như MAE, MSE thấp cho thấy rằng dự đoán của mô hình gần với giá trị thực.\n",
        "\n",
        "R-squared (R²): 0.998\n",
        "\n",
        "R-squared là một độ đo về mức độ mô hình của bạn giải thích phương sai trong dữ liệu. R² cao (gần 1) cho thấy mô hình đã phán đoán được một lượng lớn biến động trong biến mục tiêu.\n",
        "\n",
        "Các chỉ số hiệu suất tổng thể cho thấy mô hình của bạn hoạt động xuất sắc trên dữ liệu đã cho."
      ],
      "metadata": {
        "id": "oaV7-ae4VbT1"
      }
    },
    {
      "cell_type": "markdown",
      "source": [
        "# Những đề xuất và hướng giải quyết"
      ],
      "metadata": {
        "id": "cVCarlh6XqBy"
      }
    },
    {
      "cell_type": "markdown",
      "source": [
        "Cải tiến bộ dữ liệu"
      ],
      "metadata": {
        "id": "ROLqmpkXqL3D"
      }
    },
    {
      "cell_type": "markdown",
      "source": [
        "- Đảm bảo rằng dữ liệu không bị thiếu hoặc bị lỗi. Bổ sung thêm thông tin của các quốc gia còn lại trên thế giới để có bộ dữ liệu đầy đủ hơn.\n",
        "\n",
        "- Quan sát xem có các xu hướng, mô hình hay sự biến động nào khác có thể liên quan đến sự ảnh hưởng và tình hình của covid 19 như chất lượng y tế các nước, tình hình chính trị,ảnh hưởng các dịch bệnh khác... để bổ sung thêm làm tăng chất lượng bộ dữ liệu."
      ],
      "metadata": {
        "id": "NHid9DKNqPp1"
      }
    },
    {
      "cell_type": "markdown",
      "source": [
        "Tối Ưu Hyperparameters\n",
        "\n",
        "- Tiếp tục tối ưu hyperparameters cho các mô hình được chọn để xây dựng được mô hình có hiệu suất tốt nhất"
      ],
      "metadata": {
        "id": "94WmK0Phsmwl"
      }
    },
    {
      "cell_type": "markdown",
      "source": [
        "Thử nghiệm nhiều mô hình học\n",
        "- So sánh kết quả của các mô hình khác nhau và chọn ra mô hình có hiệu suất tốt nhất để sử dụng.\n"
      ],
      "metadata": {
        "id": "76UUVB2drQvP"
      }
    },
    {
      "cell_type": "markdown",
      "source": [
        "# Phân biệt giữa overfitting và underfitting trong mô hình học máy"
      ],
      "metadata": {
        "id": "8Y0Jua3-tMlR"
      }
    },
    {
      "cell_type": "markdown",
      "source": [
        "## Underfitting\n",
        "\n",
        "**Mô hình không khái quát hóa**"
      ],
      "metadata": {
        "id": "mMfQlkSHwohZ"
      }
    },
    {
      "cell_type": "markdown",
      "source": [
        "Vấn đề underfitting khi mô hình của chúng ta đưa ra quá cơ bản hay thông số mô hình không phù hợp, làm cho mô hình không thể nắm bắt đủ các tính năng quan trọng của dữ liệu của chúng ta dù đã học tập với tập huấn luyện, do đó mô hình chắc chắn không thành công đối với cả dữ liệu nhìn thấy và không nhìn thấy(cả train và test),"
      ],
      "metadata": {
        "id": "dyTCOVetc1B9"
      }
    },
    {
      "cell_type": "markdown",
      "source": [
        "## Overfitting\n",
        "\n",
        "**Mô hình có tính cụ thể hóa bị quá cao**\n",
        "\n",
        "Mô hình tính toán để dự gần đúng cho một vấn đề thực tế rất đơn giản bằng một mô hình quá suy diễn, khiến hàm dự đoán f'() phức tạp hơn nhiều với hàm f thực tế. Và sự suy diễn quá mức khiến của chúng ta không có tính cụ thể hóa phù hợp cho hàm f thực tế.\n",
        "\n",
        "Nếu mô hình của chúng ta học dữ liệu quá nhiều lần, nó sẽ học rất tốt chỉ với dữ liệu đó: **Học tủ**( dữ liệu không hoàn toàn đại diện cho tổng thể). Nó sẽ nắm bắt hầu hết các mối tương quan về mẫu trong dữ liệu, nhưng nó cũng sẽ học từ nhiễu hoặc những mối quan hệ không cần thiết hiện có trong dữ liệu."
      ],
      "metadata": {
        "id": "ol17NFgoIBbd"
      }
    }
  ]
}